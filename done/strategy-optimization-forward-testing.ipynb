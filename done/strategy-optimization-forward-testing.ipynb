{
 "cells": [
  {
   "cell_type": "code",
   "execution_count": 4,
   "metadata": {},
   "outputs": [],
   "source": [
    "from binance.client import Client\n",
    "import pandas as pd\n",
    "import numpy as np\n",
    "import matplotlib.pyplot as plt\n",
    "plt.style.use('dark_background')\n",
    "api_key = 'haWzm6Ujj0SdpaCeCBiyyAvTvS78odvplgl4W9t29CVgSq5LrAHpt940JYQCt5TD'\n",
    "secret_key = 'SgoyFqlJ6SvCYSXPFsU1ehPzQHhsfFV3Pa5scLF6y0stOO0aYXpfig6Fy4N0ePWX'\n",
    "client = Client(api_key=api_key, api_secret=secret_key, tld='com')\n",
    "account = client.get_account()"
   ]
  },
  {
   "cell_type": "code",
   "execution_count": 5,
   "metadata": {},
   "outputs": [],
   "source": [
    "\n",
    "def get_history(symbol, interval, start, end=None):\n",
    "    bars = client.get_historical_klines(\n",
    "        symbol=symbol, interval=interval, start_str=start, end_str=end)\n",
    "    df = pd.DataFrame(bars)\n",
    "    df['Date'] = pd.to_datetime(df.iloc[:, 0], unit='ms')\n",
    "    df.columns = ['Open Time', 'Open', 'High', 'Low', 'Close', 'Volume', 'Clos Time', 'Quote Asset Volume',\n",
    "                  'Number of Trades', 'Taker Buy Base Asset Volume', 'Taker Buy Quote Asset Volume', 'Ignore', 'Date']\n",
    "    df = df[['Date', 'Open', 'High', 'Low', 'Close', 'Volume']].copy()\n",
    "    df.set_index('Date', inplace=True)\n",
    "    for column in df.columns:\n",
    "        df[column] = pd.to_numeric(df[column], errors='coerce')\n",
    "    return df\n",
    "\n",
    "timestamp = client._get_earliest_valid_timestamp(\n",
    "    symbol='BTCUSDT', interval='1d')\n",
    "\n",
    "\n",
    "data = get_history('BTCUSDT', '1h', timestamp)\n"
   ]
  },
  {
   "cell_type": "code",
   "execution_count": 7,
   "metadata": {},
   "outputs": [
    {
     "name": "stdout",
     "output_type": "stream",
     "text": [
      "<class 'pandas.core.frame.DataFrame'>\n",
      "DatetimeIndex: 44242 entries, 2017-08-17 04:00:00 to 2022-09-08 20:00:00\n",
      "Data columns (total 5 columns):\n",
      " #   Column  Non-Null Count  Dtype  \n",
      "---  ------  --------------  -----  \n",
      " 0   Open    44242 non-null  float64\n",
      " 1   High    44242 non-null  float64\n",
      " 2   Low     44242 non-null  float64\n",
      " 3   Close   44242 non-null  float64\n",
      " 4   Volume  44242 non-null  float64\n",
      "dtypes: float64(5)\n",
      "memory usage: 2.0 MB\n"
     ]
    }
   ],
   "source": [
    "data.info()"
   ]
  },
  {
   "cell_type": "markdown",
   "metadata": {},
   "source": []
  },
  {
   "cell_type": "code",
   "execution_count": 8,
   "metadata": {},
   "outputs": [
    {
     "data": {
      "text/html": [
       "<div>\n",
       "<style scoped>\n",
       "    .dataframe tbody tr th:only-of-type {\n",
       "        vertical-align: middle;\n",
       "    }\n",
       "\n",
       "    .dataframe tbody tr th {\n",
       "        vertical-align: top;\n",
       "    }\n",
       "\n",
       "    .dataframe thead th {\n",
       "        text-align: right;\n",
       "    }\n",
       "</style>\n",
       "<table border=\"1\" class=\"dataframe\">\n",
       "  <thead>\n",
       "    <tr style=\"text-align: right;\">\n",
       "      <th></th>\n",
       "      <th>Open</th>\n",
       "      <th>High</th>\n",
       "      <th>Low</th>\n",
       "      <th>Close</th>\n",
       "      <th>Volume</th>\n",
       "      <th>returns</th>\n",
       "    </tr>\n",
       "    <tr>\n",
       "      <th>Date</th>\n",
       "      <th></th>\n",
       "      <th></th>\n",
       "      <th></th>\n",
       "      <th></th>\n",
       "      <th></th>\n",
       "      <th></th>\n",
       "    </tr>\n",
       "  </thead>\n",
       "  <tbody>\n",
       "    <tr>\n",
       "      <th>2017-08-17 04:00:00</th>\n",
       "      <td>4261.48</td>\n",
       "      <td>4313.62</td>\n",
       "      <td>4261.32</td>\n",
       "      <td>4308.83</td>\n",
       "      <td>47.181009</td>\n",
       "      <td>NaN</td>\n",
       "    </tr>\n",
       "    <tr>\n",
       "      <th>2017-08-17 05:00:00</th>\n",
       "      <td>4308.83</td>\n",
       "      <td>4328.69</td>\n",
       "      <td>4291.37</td>\n",
       "      <td>4315.32</td>\n",
       "      <td>23.234916</td>\n",
       "      <td>0.001505</td>\n",
       "    </tr>\n",
       "    <tr>\n",
       "      <th>2017-08-17 06:00:00</th>\n",
       "      <td>4330.29</td>\n",
       "      <td>4345.45</td>\n",
       "      <td>4309.37</td>\n",
       "      <td>4324.35</td>\n",
       "      <td>7.229691</td>\n",
       "      <td>0.002090</td>\n",
       "    </tr>\n",
       "    <tr>\n",
       "      <th>2017-08-17 07:00:00</th>\n",
       "      <td>4316.62</td>\n",
       "      <td>4349.99</td>\n",
       "      <td>4287.41</td>\n",
       "      <td>4349.99</td>\n",
       "      <td>4.443249</td>\n",
       "      <td>0.005912</td>\n",
       "    </tr>\n",
       "    <tr>\n",
       "      <th>2017-08-17 08:00:00</th>\n",
       "      <td>4333.32</td>\n",
       "      <td>4377.85</td>\n",
       "      <td>4333.32</td>\n",
       "      <td>4360.69</td>\n",
       "      <td>0.972807</td>\n",
       "      <td>0.002457</td>\n",
       "    </tr>\n",
       "    <tr>\n",
       "      <th>...</th>\n",
       "      <td>...</td>\n",
       "      <td>...</td>\n",
       "      <td>...</td>\n",
       "      <td>...</td>\n",
       "      <td>...</td>\n",
       "      <td>...</td>\n",
       "    </tr>\n",
       "    <tr>\n",
       "      <th>2022-09-08 16:00:00</th>\n",
       "      <td>19250.81</td>\n",
       "      <td>19263.16</td>\n",
       "      <td>19093.13</td>\n",
       "      <td>19189.80</td>\n",
       "      <td>14205.332260</td>\n",
       "      <td>-0.003174</td>\n",
       "    </tr>\n",
       "    <tr>\n",
       "      <th>2022-09-08 17:00:00</th>\n",
       "      <td>19189.78</td>\n",
       "      <td>19246.26</td>\n",
       "      <td>19118.46</td>\n",
       "      <td>19199.28</td>\n",
       "      <td>12777.606900</td>\n",
       "      <td>0.000494</td>\n",
       "    </tr>\n",
       "    <tr>\n",
       "      <th>2022-09-08 18:00:00</th>\n",
       "      <td>19198.57</td>\n",
       "      <td>19246.68</td>\n",
       "      <td>19168.00</td>\n",
       "      <td>19201.24</td>\n",
       "      <td>9962.241080</td>\n",
       "      <td>0.000102</td>\n",
       "    </tr>\n",
       "    <tr>\n",
       "      <th>2022-09-08 19:00:00</th>\n",
       "      <td>19200.43</td>\n",
       "      <td>19354.04</td>\n",
       "      <td>19181.30</td>\n",
       "      <td>19352.38</td>\n",
       "      <td>9722.834230</td>\n",
       "      <td>0.007841</td>\n",
       "    </tr>\n",
       "    <tr>\n",
       "      <th>2022-09-08 20:00:00</th>\n",
       "      <td>19352.38</td>\n",
       "      <td>19458.25</td>\n",
       "      <td>19328.20</td>\n",
       "      <td>19369.68</td>\n",
       "      <td>8151.164710</td>\n",
       "      <td>0.000894</td>\n",
       "    </tr>\n",
       "  </tbody>\n",
       "</table>\n",
       "<p>44242 rows × 6 columns</p>\n",
       "</div>"
      ],
      "text/plain": [
       "                         Open      High       Low     Close        Volume  \\\n",
       "Date                                                                        \n",
       "2017-08-17 04:00:00   4261.48   4313.62   4261.32   4308.83     47.181009   \n",
       "2017-08-17 05:00:00   4308.83   4328.69   4291.37   4315.32     23.234916   \n",
       "2017-08-17 06:00:00   4330.29   4345.45   4309.37   4324.35      7.229691   \n",
       "2017-08-17 07:00:00   4316.62   4349.99   4287.41   4349.99      4.443249   \n",
       "2017-08-17 08:00:00   4333.32   4377.85   4333.32   4360.69      0.972807   \n",
       "...                       ...       ...       ...       ...           ...   \n",
       "2022-09-08 16:00:00  19250.81  19263.16  19093.13  19189.80  14205.332260   \n",
       "2022-09-08 17:00:00  19189.78  19246.26  19118.46  19199.28  12777.606900   \n",
       "2022-09-08 18:00:00  19198.57  19246.68  19168.00  19201.24   9962.241080   \n",
       "2022-09-08 19:00:00  19200.43  19354.04  19181.30  19352.38   9722.834230   \n",
       "2022-09-08 20:00:00  19352.38  19458.25  19328.20  19369.68   8151.164710   \n",
       "\n",
       "                      returns  \n",
       "Date                           \n",
       "2017-08-17 04:00:00       NaN  \n",
       "2017-08-17 05:00:00  0.001505  \n",
       "2017-08-17 06:00:00  0.002090  \n",
       "2017-08-17 07:00:00  0.005912  \n",
       "2017-08-17 08:00:00  0.002457  \n",
       "...                       ...  \n",
       "2022-09-08 16:00:00 -0.003174  \n",
       "2022-09-08 17:00:00  0.000494  \n",
       "2022-09-08 18:00:00  0.000102  \n",
       "2022-09-08 19:00:00  0.007841  \n",
       "2022-09-08 20:00:00  0.000894  \n",
       "\n",
       "[44242 rows x 6 columns]"
      ]
     },
     "execution_count": 8,
     "metadata": {},
     "output_type": "execute_result"
    }
   ],
   "source": [
    "data['returns'] = np.log(data.Close / data.Close.shift(1))\n",
    "data"
   ]
  },
  {
   "cell_type": "code",
   "execution_count": 26,
   "metadata": {},
   "outputs": [],
   "source": [
    "def backtest(data, parameters, tc): # (data, (90,5,20), 0.01)\n",
    "\n",
    "    # prepare features\n",
    "    data = data[[\"Close\", \"Volume\", \"returns\"]].copy()\n",
    "    data['vol_ch'] = np.log(data.Volume.div(data.Volume.shift(1)))\n",
    "    data.loc[data.vol_ch > 3, \"vol_ch\"] = np.nan\n",
    "    data.loc[data.vol_ch < -3, \"vol_ch\"] = np.nan\n",
    "\n",
    "    # define trading positions\n",
    "\n",
    "    return_thresh = np.percentile(data.returns.dropna(), parameters[0])\n",
    "    cond1 = data.returns >= return_thresh\n",
    "    volume_thresh = np.percentile(data.vol_ch.dropna(), [parameters[1], parameters[2]])\n",
    "    cond2 = data.vol_ch.between(volume_thresh[0], volume_thresh[1])\n",
    "\n",
    "    data[\"position\"] = 1\n",
    "    data.loc[cond1 & cond2, \"position\"] = 0\n",
    "\n",
    "    # backtest\n",
    "\n",
    "    data[\"strategy\"] = data.position.shift(1) * data[\"returns\"]\n",
    "    data[\"trades\"] = data.position.diff().fillna(0).abs()\n",
    "    data.strategy = data.strategy + data.trades * tc\n",
    "    data[\"creturns\"] = data[\"returns\"].cumsum().apply(np.exp)\n",
    "    data[\"cstrategy\"] = data[\"strategy\"].cumsum().apply(np.exp)\n",
    "\n",
    "    # return strategy multiple\n",
    "    return data.cstrategy[-1]"
   ]
  },
  {
   "cell_type": "code",
   "execution_count": 27,
   "metadata": {},
   "outputs": [],
   "source": [
    "import warnings\n",
    "warnings.filterwarnings('ignore')"
   ]
  },
  {
   "cell_type": "code",
   "execution_count": 28,
   "metadata": {},
   "outputs": [
    {
     "data": {
      "text/plain": [
       "6.096440052734242"
      ]
     },
     "execution_count": 28,
     "metadata": {},
     "output_type": "execute_result"
    }
   ],
   "source": [
    "backtest(data = data, parameters = (90, 5, 20), tc = -0.00085)"
   ]
  },
  {
   "cell_type": "code",
   "execution_count": 33,
   "metadata": {},
   "outputs": [],
   "source": [
    "return_range = range(85, 98, 1) # potential val for return_thresh\n",
    "vol_low_range = range(2, 16, 1) # portential val for vol_low\n",
    "vol_high_range = range(16, 35, 1) # potential val for vol_high"
   ]
  },
  {
   "cell_type": "code",
   "execution_count": 34,
   "metadata": {},
   "outputs": [
    {
     "data": {
      "text/plain": [
       "[85, 86, 87, 88, 89, 90, 91, 92, 93, 94, 95, 96, 97]"
      ]
     },
     "execution_count": 34,
     "metadata": {},
     "output_type": "execute_result"
    }
   ],
   "source": [
    "list(return_range)"
   ]
  },
  {
   "cell_type": "code",
   "execution_count": 35,
   "metadata": {},
   "outputs": [
    {
     "data": {
      "text/plain": [
       "3458"
      ]
     },
     "execution_count": 35,
     "metadata": {},
     "output_type": "execute_result"
    }
   ],
   "source": [
    "from itertools import product\n",
    "\n",
    "combinations = list(product(return_range,vol_low_range,vol_high_range))\n",
    "\n",
    "len(combinations)"
   ]
  },
  {
   "cell_type": "code",
   "execution_count": 36,
   "metadata": {},
   "outputs": [],
   "source": [
    "results = []\n",
    "\n",
    "for comb in combinations:\n",
    "    results.append(backtest(data = data, parameters= comb,tc = -0.00085))"
   ]
  },
  {
   "cell_type": "code",
   "execution_count": 39,
   "metadata": {},
   "outputs": [
    {
     "data": {
      "text/html": [
       "<div>\n",
       "<style scoped>\n",
       "    .dataframe tbody tr th:only-of-type {\n",
       "        vertical-align: middle;\n",
       "    }\n",
       "\n",
       "    .dataframe tbody tr th {\n",
       "        vertical-align: top;\n",
       "    }\n",
       "\n",
       "    .dataframe thead th {\n",
       "        text-align: right;\n",
       "    }\n",
       "</style>\n",
       "<table border=\"1\" class=\"dataframe\">\n",
       "  <thead>\n",
       "    <tr style=\"text-align: right;\">\n",
       "      <th></th>\n",
       "      <th>returns</th>\n",
       "      <th>vol_low</th>\n",
       "      <th>vol_high</th>\n",
       "      <th>performance</th>\n",
       "    </tr>\n",
       "  </thead>\n",
       "  <tbody>\n",
       "    <tr>\n",
       "      <th>0</th>\n",
       "      <td>85</td>\n",
       "      <td>2</td>\n",
       "      <td>16</td>\n",
       "      <td>5.184924</td>\n",
       "    </tr>\n",
       "    <tr>\n",
       "      <th>1</th>\n",
       "      <td>85</td>\n",
       "      <td>2</td>\n",
       "      <td>17</td>\n",
       "      <td>5.057463</td>\n",
       "    </tr>\n",
       "    <tr>\n",
       "      <th>2</th>\n",
       "      <td>85</td>\n",
       "      <td>2</td>\n",
       "      <td>18</td>\n",
       "      <td>5.454963</td>\n",
       "    </tr>\n",
       "    <tr>\n",
       "      <th>3</th>\n",
       "      <td>85</td>\n",
       "      <td>2</td>\n",
       "      <td>19</td>\n",
       "      <td>5.114396</td>\n",
       "    </tr>\n",
       "    <tr>\n",
       "      <th>4</th>\n",
       "      <td>85</td>\n",
       "      <td>2</td>\n",
       "      <td>20</td>\n",
       "      <td>4.706287</td>\n",
       "    </tr>\n",
       "    <tr>\n",
       "      <th>...</th>\n",
       "      <td>...</td>\n",
       "      <td>...</td>\n",
       "      <td>...</td>\n",
       "      <td>...</td>\n",
       "    </tr>\n",
       "    <tr>\n",
       "      <th>3453</th>\n",
       "      <td>97</td>\n",
       "      <td>15</td>\n",
       "      <td>30</td>\n",
       "      <td>4.482723</td>\n",
       "    </tr>\n",
       "    <tr>\n",
       "      <th>3454</th>\n",
       "      <td>97</td>\n",
       "      <td>15</td>\n",
       "      <td>31</td>\n",
       "      <td>4.824084</td>\n",
       "    </tr>\n",
       "    <tr>\n",
       "      <th>3455</th>\n",
       "      <td>97</td>\n",
       "      <td>15</td>\n",
       "      <td>32</td>\n",
       "      <td>4.396124</td>\n",
       "    </tr>\n",
       "    <tr>\n",
       "      <th>3456</th>\n",
       "      <td>97</td>\n",
       "      <td>15</td>\n",
       "      <td>33</td>\n",
       "      <td>4.107194</td>\n",
       "    </tr>\n",
       "    <tr>\n",
       "      <th>3457</th>\n",
       "      <td>97</td>\n",
       "      <td>15</td>\n",
       "      <td>34</td>\n",
       "      <td>4.034705</td>\n",
       "    </tr>\n",
       "  </tbody>\n",
       "</table>\n",
       "<p>3458 rows × 4 columns</p>\n",
       "</div>"
      ],
      "text/plain": [
       "      returns  vol_low  vol_high  performance\n",
       "0          85        2        16     5.184924\n",
       "1          85        2        17     5.057463\n",
       "2          85        2        18     5.454963\n",
       "3          85        2        19     5.114396\n",
       "4          85        2        20     4.706287\n",
       "...       ...      ...       ...          ...\n",
       "3453       97       15        30     4.482723\n",
       "3454       97       15        31     4.824084\n",
       "3455       97       15        32     4.396124\n",
       "3456       97       15        33     4.107194\n",
       "3457       97       15        34     4.034705\n",
       "\n",
       "[3458 rows x 4 columns]"
      ]
     },
     "execution_count": 39,
     "metadata": {},
     "output_type": "execute_result"
    }
   ],
   "source": [
    "many_results = pd.DataFrame(data = combinations, columns = [\"returns\",\"vol_low\",\"vol_high\"])\n",
    "many_results[\"performance\"] = results\n",
    "many_results"
   ]
  },
  {
   "cell_type": "code",
   "execution_count": 40,
   "metadata": {},
   "outputs": [
    {
     "data": {
      "text/html": [
       "<div>\n",
       "<style scoped>\n",
       "    .dataframe tbody tr th:only-of-type {\n",
       "        vertical-align: middle;\n",
       "    }\n",
       "\n",
       "    .dataframe tbody tr th {\n",
       "        vertical-align: top;\n",
       "    }\n",
       "\n",
       "    .dataframe thead th {\n",
       "        text-align: right;\n",
       "    }\n",
       "</style>\n",
       "<table border=\"1\" class=\"dataframe\">\n",
       "  <thead>\n",
       "    <tr style=\"text-align: right;\">\n",
       "      <th></th>\n",
       "      <th>returns</th>\n",
       "      <th>vol_low</th>\n",
       "      <th>vol_high</th>\n",
       "      <th>performance</th>\n",
       "    </tr>\n",
       "  </thead>\n",
       "  <tbody>\n",
       "    <tr>\n",
       "      <th>2595</th>\n",
       "      <td>94</td>\n",
       "      <td>12</td>\n",
       "      <td>27</td>\n",
       "      <td>9.961368</td>\n",
       "    </tr>\n",
       "    <tr>\n",
       "      <th>2842</th>\n",
       "      <td>95</td>\n",
       "      <td>11</td>\n",
       "      <td>27</td>\n",
       "      <td>9.774013</td>\n",
       "    </tr>\n",
       "    <tr>\n",
       "      <th>2576</th>\n",
       "      <td>94</td>\n",
       "      <td>11</td>\n",
       "      <td>27</td>\n",
       "      <td>9.717974</td>\n",
       "    </tr>\n",
       "    <tr>\n",
       "      <th>2846</th>\n",
       "      <td>95</td>\n",
       "      <td>11</td>\n",
       "      <td>31</td>\n",
       "      <td>9.666346</td>\n",
       "    </tr>\n",
       "    <tr>\n",
       "      <th>2823</th>\n",
       "      <td>95</td>\n",
       "      <td>10</td>\n",
       "      <td>27</td>\n",
       "      <td>9.513945</td>\n",
       "    </tr>\n",
       "    <tr>\n",
       "      <th>2861</th>\n",
       "      <td>95</td>\n",
       "      <td>12</td>\n",
       "      <td>27</td>\n",
       "      <td>9.501154</td>\n",
       "    </tr>\n",
       "    <tr>\n",
       "      <th>2596</th>\n",
       "      <td>94</td>\n",
       "      <td>12</td>\n",
       "      <td>28</td>\n",
       "      <td>9.434685</td>\n",
       "    </tr>\n",
       "    <tr>\n",
       "      <th>2827</th>\n",
       "      <td>95</td>\n",
       "      <td>10</td>\n",
       "      <td>31</td>\n",
       "      <td>9.409144</td>\n",
       "    </tr>\n",
       "    <tr>\n",
       "      <th>2865</th>\n",
       "      <td>95</td>\n",
       "      <td>12</td>\n",
       "      <td>31</td>\n",
       "      <td>9.396493</td>\n",
       "    </tr>\n",
       "    <tr>\n",
       "      <th>2557</th>\n",
       "      <td>94</td>\n",
       "      <td>10</td>\n",
       "      <td>27</td>\n",
       "      <td>9.389677</td>\n",
       "    </tr>\n",
       "    <tr>\n",
       "      <th>2044</th>\n",
       "      <td>92</td>\n",
       "      <td>11</td>\n",
       "      <td>27</td>\n",
       "      <td>9.315493</td>\n",
       "    </tr>\n",
       "    <tr>\n",
       "      <th>2025</th>\n",
       "      <td>92</td>\n",
       "      <td>10</td>\n",
       "      <td>27</td>\n",
       "      <td>9.279461</td>\n",
       "    </tr>\n",
       "    <tr>\n",
       "      <th>2063</th>\n",
       "      <td>92</td>\n",
       "      <td>12</td>\n",
       "      <td>27</td>\n",
       "      <td>9.276665</td>\n",
       "    </tr>\n",
       "    <tr>\n",
       "      <th>2804</th>\n",
       "      <td>95</td>\n",
       "      <td>9</td>\n",
       "      <td>27</td>\n",
       "      <td>9.265830</td>\n",
       "    </tr>\n",
       "    <tr>\n",
       "      <th>2843</th>\n",
       "      <td>95</td>\n",
       "      <td>11</td>\n",
       "      <td>28</td>\n",
       "      <td>9.222988</td>\n",
       "    </tr>\n",
       "    <tr>\n",
       "      <th>2577</th>\n",
       "      <td>94</td>\n",
       "      <td>11</td>\n",
       "      <td>28</td>\n",
       "      <td>9.204160</td>\n",
       "    </tr>\n",
       "    <tr>\n",
       "      <th>2785</th>\n",
       "      <td>95</td>\n",
       "      <td>8</td>\n",
       "      <td>27</td>\n",
       "      <td>9.170863</td>\n",
       "    </tr>\n",
       "    <tr>\n",
       "      <th>2808</th>\n",
       "      <td>95</td>\n",
       "      <td>9</td>\n",
       "      <td>31</td>\n",
       "      <td>9.163761</td>\n",
       "    </tr>\n",
       "    <tr>\n",
       "      <th>2538</th>\n",
       "      <td>94</td>\n",
       "      <td>9</td>\n",
       "      <td>27</td>\n",
       "      <td>9.079742</td>\n",
       "    </tr>\n",
       "    <tr>\n",
       "      <th>2789</th>\n",
       "      <td>95</td>\n",
       "      <td>8</td>\n",
       "      <td>31</td>\n",
       "      <td>9.069841</td>\n",
       "    </tr>\n",
       "  </tbody>\n",
       "</table>\n",
       "</div>"
      ],
      "text/plain": [
       "      returns  vol_low  vol_high  performance\n",
       "2595       94       12        27     9.961368\n",
       "2842       95       11        27     9.774013\n",
       "2576       94       11        27     9.717974\n",
       "2846       95       11        31     9.666346\n",
       "2823       95       10        27     9.513945\n",
       "2861       95       12        27     9.501154\n",
       "2596       94       12        28     9.434685\n",
       "2827       95       10        31     9.409144\n",
       "2865       95       12        31     9.396493\n",
       "2557       94       10        27     9.389677\n",
       "2044       92       11        27     9.315493\n",
       "2025       92       10        27     9.279461\n",
       "2063       92       12        27     9.276665\n",
       "2804       95        9        27     9.265830\n",
       "2843       95       11        28     9.222988\n",
       "2577       94       11        28     9.204160\n",
       "2785       95        8        27     9.170863\n",
       "2808       95        9        31     9.163761\n",
       "2538       94        9        27     9.079742\n",
       "2789       95        8        31     9.069841"
      ]
     },
     "execution_count": 40,
     "metadata": {},
     "output_type": "execute_result"
    }
   ],
   "source": [
    "many_results.nlargest(20,\"performance\")"
   ]
  },
  {
   "cell_type": "code",
   "execution_count": 41,
   "metadata": {},
   "outputs": [
    {
     "data": {
      "text/html": [
       "<div>\n",
       "<style scoped>\n",
       "    .dataframe tbody tr th:only-of-type {\n",
       "        vertical-align: middle;\n",
       "    }\n",
       "\n",
       "    .dataframe tbody tr th {\n",
       "        vertical-align: top;\n",
       "    }\n",
       "\n",
       "    .dataframe thead th {\n",
       "        text-align: right;\n",
       "    }\n",
       "</style>\n",
       "<table border=\"1\" class=\"dataframe\">\n",
       "  <thead>\n",
       "    <tr style=\"text-align: right;\">\n",
       "      <th></th>\n",
       "      <th>returns</th>\n",
       "      <th>vol_low</th>\n",
       "      <th>vol_high</th>\n",
       "      <th>performance</th>\n",
       "    </tr>\n",
       "  </thead>\n",
       "  <tbody>\n",
       "    <tr>\n",
       "      <th>18</th>\n",
       "      <td>85</td>\n",
       "      <td>2</td>\n",
       "      <td>34</td>\n",
       "      <td>2.171125</td>\n",
       "    </tr>\n",
       "    <tr>\n",
       "      <th>37</th>\n",
       "      <td>85</td>\n",
       "      <td>3</td>\n",
       "      <td>34</td>\n",
       "      <td>2.219556</td>\n",
       "    </tr>\n",
       "    <tr>\n",
       "      <th>17</th>\n",
       "      <td>85</td>\n",
       "      <td>2</td>\n",
       "      <td>33</td>\n",
       "      <td>2.245884</td>\n",
       "    </tr>\n",
       "    <tr>\n",
       "      <th>265</th>\n",
       "      <td>85</td>\n",
       "      <td>15</td>\n",
       "      <td>34</td>\n",
       "      <td>2.247466</td>\n",
       "    </tr>\n",
       "    <tr>\n",
       "      <th>36</th>\n",
       "      <td>85</td>\n",
       "      <td>3</td>\n",
       "      <td>33</td>\n",
       "      <td>2.295982</td>\n",
       "    </tr>\n",
       "    <tr>\n",
       "      <th>264</th>\n",
       "      <td>85</td>\n",
       "      <td>15</td>\n",
       "      <td>33</td>\n",
       "      <td>2.324853</td>\n",
       "    </tr>\n",
       "    <tr>\n",
       "      <th>56</th>\n",
       "      <td>85</td>\n",
       "      <td>4</td>\n",
       "      <td>34</td>\n",
       "      <td>2.336293</td>\n",
       "    </tr>\n",
       "    <tr>\n",
       "      <th>75</th>\n",
       "      <td>85</td>\n",
       "      <td>5</td>\n",
       "      <td>34</td>\n",
       "      <td>2.354888</td>\n",
       "    </tr>\n",
       "    <tr>\n",
       "      <th>94</th>\n",
       "      <td>85</td>\n",
       "      <td>6</td>\n",
       "      <td>34</td>\n",
       "      <td>2.395501</td>\n",
       "    </tr>\n",
       "    <tr>\n",
       "      <th>14</th>\n",
       "      <td>85</td>\n",
       "      <td>2</td>\n",
       "      <td>30</td>\n",
       "      <td>2.415119</td>\n",
       "    </tr>\n",
       "    <tr>\n",
       "      <th>55</th>\n",
       "      <td>85</td>\n",
       "      <td>4</td>\n",
       "      <td>33</td>\n",
       "      <td>2.416739</td>\n",
       "    </tr>\n",
       "    <tr>\n",
       "      <th>74</th>\n",
       "      <td>85</td>\n",
       "      <td>5</td>\n",
       "      <td>33</td>\n",
       "      <td>2.435974</td>\n",
       "    </tr>\n",
       "    <tr>\n",
       "      <th>16</th>\n",
       "      <td>85</td>\n",
       "      <td>2</td>\n",
       "      <td>32</td>\n",
       "      <td>2.463044</td>\n",
       "    </tr>\n",
       "    <tr>\n",
       "      <th>33</th>\n",
       "      <td>85</td>\n",
       "      <td>3</td>\n",
       "      <td>30</td>\n",
       "      <td>2.468992</td>\n",
       "    </tr>\n",
       "    <tr>\n",
       "      <th>93</th>\n",
       "      <td>85</td>\n",
       "      <td>6</td>\n",
       "      <td>33</td>\n",
       "      <td>2.477986</td>\n",
       "    </tr>\n",
       "    <tr>\n",
       "      <th>35</th>\n",
       "      <td>85</td>\n",
       "      <td>3</td>\n",
       "      <td>32</td>\n",
       "      <td>2.517986</td>\n",
       "    </tr>\n",
       "    <tr>\n",
       "      <th>261</th>\n",
       "      <td>85</td>\n",
       "      <td>15</td>\n",
       "      <td>30</td>\n",
       "      <td>2.525670</td>\n",
       "    </tr>\n",
       "    <tr>\n",
       "      <th>263</th>\n",
       "      <td>85</td>\n",
       "      <td>15</td>\n",
       "      <td>32</td>\n",
       "      <td>2.558333</td>\n",
       "    </tr>\n",
       "    <tr>\n",
       "      <th>52</th>\n",
       "      <td>85</td>\n",
       "      <td>4</td>\n",
       "      <td>30</td>\n",
       "      <td>2.598849</td>\n",
       "    </tr>\n",
       "    <tr>\n",
       "      <th>71</th>\n",
       "      <td>85</td>\n",
       "      <td>5</td>\n",
       "      <td>30</td>\n",
       "      <td>2.619533</td>\n",
       "    </tr>\n",
       "  </tbody>\n",
       "</table>\n",
       "</div>"
      ],
      "text/plain": [
       "     returns  vol_low  vol_high  performance\n",
       "18        85        2        34     2.171125\n",
       "37        85        3        34     2.219556\n",
       "17        85        2        33     2.245884\n",
       "265       85       15        34     2.247466\n",
       "36        85        3        33     2.295982\n",
       "264       85       15        33     2.324853\n",
       "56        85        4        34     2.336293\n",
       "75        85        5        34     2.354888\n",
       "94        85        6        34     2.395501\n",
       "14        85        2        30     2.415119\n",
       "55        85        4        33     2.416739\n",
       "74        85        5        33     2.435974\n",
       "16        85        2        32     2.463044\n",
       "33        85        3        30     2.468992\n",
       "93        85        6        33     2.477986\n",
       "35        85        3        32     2.517986\n",
       "261       85       15        30     2.525670\n",
       "263       85       15        32     2.558333\n",
       "52        85        4        30     2.598849\n",
       "71        85        5        30     2.619533"
      ]
     },
     "execution_count": 41,
     "metadata": {},
     "output_type": "execute_result"
    }
   ],
   "source": [
    "many_results.nsmallest(20,\"performance\")"
   ]
  },
  {
   "cell_type": "code",
   "execution_count": 42,
   "metadata": {},
   "outputs": [
    {
     "data": {
      "text/plain": [
       "<AxesSubplot:xlabel='returns'>"
      ]
     },
     "execution_count": 42,
     "metadata": {},
     "output_type": "execute_result"
    },
    {
     "data": {
      "image/png": "[encoded data removed]",
      "text/plain": [
       "<Figure size 432x288 with 1 Axes>"
      ]
     },
     "metadata": {
      "needs_background": "dark"
     },
     "output_type": "display_data"
    }
   ],
   "source": [
    "many_results.groupby(\"returns\").performance.mean().plot()"
   ]
  },
  {
   "cell_type": "code",
   "execution_count": 43,
   "metadata": {},
   "outputs": [
    {
     "data": {
      "text/plain": [
       "<AxesSubplot:xlabel='vol_low'>"
      ]
     },
     "execution_count": 43,
     "metadata": {},
     "output_type": "execute_result"
    },
    {
     "data": {
      "image/png": "[encoded data removed]",
      "text/plain": [
       "<Figure size 432x288 with 1 Axes>"
      ]
     },
     "metadata": {
      "needs_background": "dark"
     },
     "output_type": "display_data"
    }
   ],
   "source": [
    "many_results.groupby(\"vol_low\").performance.mean().plot()\n"
   ]
  },
  {
   "cell_type": "code",
   "execution_count": 44,
   "metadata": {},
   "outputs": [
    {
     "data": {
      "text/plain": [
       "<AxesSubplot:xlabel='vol_high'>"
      ]
     },
     "execution_count": 44,
     "metadata": {},
     "output_type": "execute_result"
    },
    {
     "data": {
      "image/png": "[encoded data removed]",
      "text/plain": [
       "<Figure size 432x288 with 1 Axes>"
      ]
     },
     "metadata": {
      "needs_background": "dark"
     },
     "output_type": "display_data"
    }
   ],
   "source": [
    "many_results.groupby(\"vol_high\").performance.mean().plot()\n"
   ]
  },
  {
   "cell_type": "code",
   "execution_count": 49,
   "metadata": {},
   "outputs": [
    {
     "data": {
      "text/plain": [
       "9.717973672704627"
      ]
     },
     "execution_count": 49,
     "metadata": {},
     "output_type": "execute_result"
    }
   ],
   "source": [
    "backtest(data = data, parameters=(94,11,27), tc= -0.00085)"
   ]
  },
  {
   "cell_type": "code",
   "execution_count": 52,
   "metadata": {},
   "outputs": [
    {
     "data": {
      "text/plain": [
       "6.096440052734242"
      ]
     },
     "execution_count": 52,
     "metadata": {},
     "output_type": "execute_result"
    }
   ],
   "source": [
    "# vs default strat\n",
    "backtest(data = data, parameters=(90,5,20), tc= -0.00085)"
   ]
  },
  {
   "cell_type": "code",
   "execution_count": null,
   "metadata": {},
   "outputs": [],
   "source": []
  }
 ],
 "metadata": {
  "kernelspec": {
   "display_name": "Python 3.7.9 64-bit",
   "language": "python",
   "name": "python3"
  },
  "language_info": {
   "codemirror_mode": {
    "name": "ipython",
    "version": 3
   },
   "file_extension": ".py",
   "mimetype": "text/x-python",
   "name": "python",
   "nbconvert_exporter": "python",
   "pygments_lexer": "ipython3",
   "version": "3.7.9"
  },
  "orig_nbformat": 4,
  "vscode": {
   "interpreter": {
    "hash": "493878ece595b30a61257a9daf1c2ed48b6ff1bae463fde24cce4e893c093a35"
   }
  }
 },
 "nbformat": 4,
 "nbformat_minor": 2
}
