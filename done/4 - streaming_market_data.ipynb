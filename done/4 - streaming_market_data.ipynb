{
 "cells": [
  {
   "cell_type": "code",
   "execution_count": 1,
   "metadata": {},
   "outputs": [],
   "source": [
    "from binance import ThreadedWebsocketManager\n",
    "import pandas as pd"
   ]
  },
  {
   "cell_type": "code",
   "execution_count": 17,
   "metadata": {},
   "outputs": [],
   "source": [
    "def stream_data(msg):\n",
    "    time = pd.to_datetime(msg['E'],unit='ms')\n",
    "    price = msg['c']\n",
    "    print('Time: {} | Price: {}'.format(time,price))"
   ]
  },
  {
   "cell_type": "code",
   "execution_count": 18,
   "metadata": {},
   "outputs": [],
   "source": [
    "twm = ThreadedWebsocketManager()\n",
    "twm.start()"
   ]
  },
  {
   "cell_type": "code",
   "execution_count": 19,
   "metadata": {},
   "outputs": [
    {
     "data": {
      "text/plain": [
       "'btcusdt@miniTicker'"
      ]
     },
     "execution_count": 19,
     "metadata": {},
     "output_type": "execute_result"
    },
    {
     "name": "stdout",
     "output_type": "stream",
     "text": [
      "Time: 2022-05-06 14:48:41.833000 | Price: 36096.78000000\n",
      "Time: 2022-05-06 14:48:42.619000 | Price: 36098.73000000\n",
      "Time: 2022-05-06 14:48:43.770000 | Price: 36098.73000000\n",
      "Time: 2022-05-06 14:48:44.863000 | Price: 36098.72000000\n",
      "Time: 2022-05-06 14:48:45.760000 | Price: 36088.69000000\n",
      "Time: 2022-05-06 14:48:46.708000 | Price: 36083.54000000\n",
      "Time: 2022-05-06 14:48:47.695000 | Price: 36083.14000000\n",
      "Time: 2022-05-06 14:48:48.719000 | Price: 36083.13000000\n"
     ]
    }
   ],
   "source": [
    "twm.start_symbol_miniticker_socket(callback = stream_data,symbol='BTCUSDT')"
   ]
  },
  {
   "cell_type": "code",
   "execution_count": 20,
   "metadata": {},
   "outputs": [
    {
     "name": "stdout",
     "output_type": "stream",
     "text": [
      "Time: 2022-05-06 14:48:49.881000 | Price: 36088.54000000\n"
     ]
    }
   ],
   "source": [
    "twm.stop() # stop the websocket/stream"
   ]
  },
  {
   "cell_type": "code",
   "execution_count": null,
   "metadata": {},
   "outputs": [],
   "source": []
  }
 ],
 "metadata": {
  "interpreter": {
   "hash": "40c15341795a4a31e2ced8b0b6833efd59251e27eb723df7c7152a89bc573360"
  },
  "kernelspec": {
   "display_name": "Python 3.7.9 64-bit",
   "language": "python",
   "name": "python3"
  },
  "language_info": {
   "codemirror_mode": {
    "name": "ipython",
    "version": 3
   },
   "file_extension": ".py",
   "mimetype": "text/x-python",
   "name": "python",
   "nbconvert_exporter": "python",
   "pygments_lexer": "ipython3",
   "version": "3.7.9"
  },
  "orig_nbformat": 4
 },
 "nbformat": 4,
 "nbformat_minor": 2
}
