{
 "cells": [
  {
   "cell_type": "code",
   "execution_count": 1,
   "metadata": {},
   "outputs": [],
   "source": [
    "from binance.client import Client\n",
    "from binance import ThreadedWebsocketManager\n",
    "import pandas as pd\n",
    "import numpy as np\n",
    "import matplotlib.pyplot as plt\n",
    "plt.style.use('dark_background')\n",
    "api_key = 'haWzm6Ujj0SdpaCeCBiyyAvTvS78odvplgl4W9t29CVgSq5LrAHpt940JYQCt5TD'\n",
    "secret_key = 'SgoyFqlJ6SvCYSXPFsU1ehPzQHhsfFV3Pa5scLF6y0stOO0aYXpfig6Fy4N0ePWX'\n",
    "client = Client(api_key=api_key, api_secret=secret_key, tld='com')\n",
    "account = client.get_account()"
   ]
  },
  {
   "cell_type": "code",
   "execution_count": 2,
   "metadata": {},
   "outputs": [],
   "source": [
    "twm = ThreadedWebsocketManager()\n",
    "twm.start()"
   ]
  },
  {
   "cell_type": "code",
   "execution_count": 3,
   "metadata": {},
   "outputs": [
    {
     "data": {
      "text/html": [
       "<div>\n",
       "<style scoped>\n",
       "    .dataframe tbody tr th:only-of-type {\n",
       "        vertical-align: middle;\n",
       "    }\n",
       "\n",
       "    .dataframe tbody tr th {\n",
       "        vertical-align: top;\n",
       "    }\n",
       "\n",
       "    .dataframe thead th {\n",
       "        text-align: right;\n",
       "    }\n",
       "</style>\n",
       "<table border=\"1\" class=\"dataframe\">\n",
       "  <thead>\n",
       "    <tr style=\"text-align: right;\">\n",
       "      <th></th>\n",
       "      <th>Open</th>\n",
       "      <th>High</th>\n",
       "      <th>Low</th>\n",
       "      <th>Close</th>\n",
       "      <th>Volume</th>\n",
       "      <th>Complete</th>\n",
       "    </tr>\n",
       "  </thead>\n",
       "  <tbody>\n",
       "  </tbody>\n",
       "</table>\n",
       "</div>"
      ],
      "text/plain": [
       "Empty DataFrame\n",
       "Columns: [Open, High, Low, Close, Volume, Complete]\n",
       "Index: []"
      ]
     },
     "execution_count": 3,
     "metadata": {},
     "output_type": "execute_result"
    }
   ],
   "source": [
    "df = pd.DataFrame(columns = [\"Open\",\"High\",\"Low\",\"Close\",\"Volume\",\"Complete\"])\n",
    "df"
   ]
  },
  {
   "cell_type": "code",
   "execution_count": 4,
   "metadata": {},
   "outputs": [],
   "source": [
    "def stream_candles(msg):\n",
    "    ''' define how to process incoming WebSocket messages '''\n",
    "    \n",
    "    # extract the required items from msg\n",
    "    event_time = pd.to_datetime(msg[\"E\"], unit = \"ms\")\n",
    "    start_time = pd.to_datetime(msg[\"k\"][\"t\"], unit = \"ms\")\n",
    "    first   = float(msg[\"k\"][\"o\"])\n",
    "    high    = float(msg[\"k\"][\"h\"])\n",
    "    low     = float(msg[\"k\"][\"l\"])\n",
    "    close   = float(msg[\"k\"][\"c\"])\n",
    "    volume  = float(msg[\"k\"][\"v\"])\n",
    "    complete=       msg[\"k\"][\"x\"]\n",
    "    \n",
    "    # print out\n",
    "    print(\"Time: {} | Price: {}\".format(event_time, close))\n",
    "    \n",
    "    # feed df (add new bar / update latest bar)\n",
    "    df.loc[start_time] = [first, high, low, close, volume, complete]"
   ]
  },
  {
   "cell_type": "code",
   "execution_count": 5,
   "metadata": {},
   "outputs": [
    {
     "data": {
      "text/plain": [
       "'btcusdt@kline_1m'"
      ]
     },
     "execution_count": 5,
     "metadata": {},
     "output_type": "execute_result"
    },
    {
     "name": "stdout",
     "output_type": "stream",
     "text": [
      "Time: 2022-09-12 16:02:40.220000 | Price: 22161.56\n",
      "Time: 2022-09-12 16:02:42.251000 | Price: 22162.18\n",
      "Time: 2022-09-12 16:02:44.261000 | Price: 22159.23\n",
      "Time: 2022-09-12 16:02:46.297000 | Price: 22157.19\n",
      "Time: 2022-09-12 16:02:48.302000 | Price: 22156.1\n",
      "Time: 2022-09-12 16:02:50.310000 | Price: 22163.07\n",
      "Time: 2022-09-12 16:02:52.312000 | Price: 22163.05\n",
      "Time: 2022-09-12 16:02:54.352000 | Price: 22160.51\n",
      "Time: 2022-09-12 16:02:56.415000 | Price: 22157.59\n",
      "Time: 2022-09-12 16:02:58.419000 | Price: 22160.89\n",
      "Time: 2022-09-12 16:03:00.003000 | Price: 22156.56\n",
      "Time: 2022-09-12 16:03:02.016000 | Price: 22162.81\n",
      "Time: 2022-09-12 16:03:04.021000 | Price: 22156.32\n",
      "Time: 2022-09-12 16:03:06.046000 | Price: 22163.91\n",
      "Time: 2022-09-12 16:03:08.049000 | Price: 22150.38\n",
      "Time: 2022-09-12 16:03:10.053000 | Price: 22154.59\n",
      "Time: 2022-09-12 16:03:12.063000 | Price: 22150.0\n",
      "Time: 2022-09-12 16:03:14.087000 | Price: 22151.56\n",
      "Time: 2022-09-12 16:03:16.091000 | Price: 22158.94\n",
      "Time: 2022-09-12 16:03:18.102000 | Price: 22160.22\n",
      "Time: 2022-09-12 16:03:20.113000 | Price: 22155.19\n",
      "Time: 2022-09-12 16:03:22.149000 | Price: 22154.98\n",
      "Time: 2022-09-12 16:03:24.246000 | Price: 22156.09\n",
      "Time: 2022-09-12 16:03:26.247000 | Price: 22155.43\n",
      "Time: 2022-09-12 16:03:28.258000 | Price: 22155.48\n",
      "Time: 2022-09-12 16:03:30.305000 | Price: 22152.84\n",
      "Time: 2022-09-12 16:03:32.317000 | Price: 22153.31\n",
      "Time: 2022-09-12 16:03:34.393000 | Price: 22154.57\n",
      "Time: 2022-09-12 16:03:36.536000 | Price: 22151.1\n",
      "Time: 2022-09-12 16:03:38.553000 | Price: 22149.97\n",
      "Time: 2022-09-12 16:03:40.558000 | Price: 22154.9\n",
      "Time: 2022-09-12 16:03:42.562000 | Price: 22160.76\n",
      "Time: 2022-09-12 16:03:44.567000 | Price: 22159.08\n",
      "Time: 2022-09-12 16:03:46.569000 | Price: 22158.92\n",
      "Time: 2022-09-12 16:03:48.573000 | Price: 22155.43\n",
      "Time: 2022-09-12 16:03:50.581000 | Price: 22148.21\n",
      "Time: 2022-09-12 16:03:52.597000 | Price: 22150.92\n",
      "Time: 2022-09-12 16:03:54.653000 | Price: 22139.02\n",
      "Time: 2022-09-12 16:03:56.656000 | Price: 22147.52\n",
      "Time: 2022-09-12 16:03:58.657000 | Price: 22152.97\n",
      "Time: 2022-09-12 16:04:00.003000 | Price: 22154.32\n",
      "Time: 2022-09-12 16:04:02.004000 | Price: 22141.9\n",
      "Time: 2022-09-12 16:04:04.018000 | Price: 22141.69\n",
      "Time: 2022-09-12 16:04:06.019000 | Price: 22145.55\n",
      "Time: 2022-09-12 16:04:08.067000 | Price: 22144.54\n",
      "Time: 2022-09-12 16:04:10.069000 | Price: 22141.0\n",
      "Time: 2022-09-12 16:04:12.078000 | Price: 22135.99\n",
      "Time: 2022-09-12 16:04:14.087000 | Price: 22134.66\n",
      "Time: 2022-09-12 16:04:16.119000 | Price: 22133.17\n",
      "Time: 2022-09-12 16:04:18.136000 | Price: 22134.45\n",
      "Time: 2022-09-12 16:04:20.140000 | Price: 22132.74\n",
      "Time: 2022-09-12 16:04:22.146000 | Price: 22131.02\n",
      "Time: 2022-09-12 16:04:24.153000 | Price: 22125.3\n",
      "Time: 2022-09-12 16:04:26.172000 | Price: 22118.07\n",
      "Time: 2022-09-12 16:04:28.176000 | Price: 22114.32\n",
      "Time: 2022-09-12 16:04:30.203000 | Price: 22115.99\n",
      "Time: 2022-09-12 16:04:32.211000 | Price: 22114.95\n",
      "Time: 2022-09-12 16:04:34.283000 | Price: 22111.1\n",
      "Time: 2022-09-12 16:04:36.286000 | Price: 22108.79\n",
      "Time: 2022-09-12 16:04:38.287000 | Price: 22111.19\n",
      "Time: 2022-09-12 16:04:40.307000 | Price: 22105.12\n",
      "Time: 2022-09-12 16:04:42.309000 | Price: 22102.19\n",
      "Time: 2022-09-12 16:04:44.319000 | Price: 22111.99\n",
      "Time: 2022-09-12 16:04:46.366000 | Price: 22107.73\n",
      "Time: 2022-09-12 16:04:48.366000 | Price: 22113.76\n",
      "Time: 2022-09-12 16:04:50.478000 | Price: 22111.91\n",
      "Time: 2022-09-12 16:04:52.485000 | Price: 22116.21\n",
      "Time: 2022-09-12 16:04:54.489000 | Price: 22117.04\n",
      "Time: 2022-09-12 16:04:56.490000 | Price: 22117.64\n"
     ]
    }
   ],
   "source": [
    "twm.start_kline_socket(callback=stream_candles,\n",
    "                       symbol=\"BTCUSDT\", interval=\"1m\")\n"
   ]
  },
  {
   "cell_type": "code",
   "execution_count": 6,
   "metadata": {},
   "outputs": [
    {
     "name": "stdout",
     "output_type": "stream",
     "text": [
      "Time: 2022-09-12 16:05:02.014000 | Price: 22121.46\n"
     ]
    }
   ],
   "source": [
    "twm.stop()"
   ]
  },
  {
   "cell_type": "code",
   "execution_count": 7,
   "metadata": {},
   "outputs": [
    {
     "data": {
      "text/html": [
       "<div>\n",
       "<style scoped>\n",
       "    .dataframe tbody tr th:only-of-type {\n",
       "        vertical-align: middle;\n",
       "    }\n",
       "\n",
       "    .dataframe tbody tr th {\n",
       "        vertical-align: top;\n",
       "    }\n",
       "\n",
       "    .dataframe thead th {\n",
       "        text-align: right;\n",
       "    }\n",
       "</style>\n",
       "<table border=\"1\" class=\"dataframe\">\n",
       "  <thead>\n",
       "    <tr style=\"text-align: right;\">\n",
       "      <th></th>\n",
       "      <th>Open</th>\n",
       "      <th>High</th>\n",
       "      <th>Low</th>\n",
       "      <th>Close</th>\n",
       "      <th>Volume</th>\n",
       "      <th>Complete</th>\n",
       "    </tr>\n",
       "  </thead>\n",
       "  <tbody>\n",
       "    <tr>\n",
       "      <th>2022-09-12 16:02:00</th>\n",
       "      <td>22194.20</td>\n",
       "      <td>22199.26</td>\n",
       "      <td>22155.20</td>\n",
       "      <td>22156.56</td>\n",
       "      <td>304.55353</td>\n",
       "      <td>True</td>\n",
       "    </tr>\n",
       "    <tr>\n",
       "      <th>2022-09-12 16:03:00</th>\n",
       "      <td>22157.41</td>\n",
       "      <td>22168.66</td>\n",
       "      <td>22138.57</td>\n",
       "      <td>22154.32</td>\n",
       "      <td>337.21359</td>\n",
       "      <td>True</td>\n",
       "    </tr>\n",
       "    <tr>\n",
       "      <th>2022-09-12 16:04:00</th>\n",
       "      <td>22151.66</td>\n",
       "      <td>22155.30</td>\n",
       "      <td>22099.34</td>\n",
       "      <td>22120.95</td>\n",
       "      <td>355.05525</td>\n",
       "      <td>True</td>\n",
       "    </tr>\n",
       "    <tr>\n",
       "      <th>2022-09-12 16:05:00</th>\n",
       "      <td>22120.95</td>\n",
       "      <td>22121.49</td>\n",
       "      <td>22113.75</td>\n",
       "      <td>22121.46</td>\n",
       "      <td>12.20708</td>\n",
       "      <td>False</td>\n",
       "    </tr>\n",
       "  </tbody>\n",
       "</table>\n",
       "</div>"
      ],
      "text/plain": [
       "                         Open      High       Low     Close     Volume  \\\n",
       "2022-09-12 16:02:00  22194.20  22199.26  22155.20  22156.56  304.55353   \n",
       "2022-09-12 16:03:00  22157.41  22168.66  22138.57  22154.32  337.21359   \n",
       "2022-09-12 16:04:00  22151.66  22155.30  22099.34  22120.95  355.05525   \n",
       "2022-09-12 16:05:00  22120.95  22121.49  22113.75  22121.46   12.20708   \n",
       "\n",
       "                    Complete  \n",
       "2022-09-12 16:02:00     True  \n",
       "2022-09-12 16:03:00     True  \n",
       "2022-09-12 16:04:00     True  \n",
       "2022-09-12 16:05:00    False  "
      ]
     },
     "execution_count": 7,
     "metadata": {},
     "output_type": "execute_result"
    }
   ],
   "source": [
    "df"
   ]
  },
  {
   "cell_type": "code",
   "execution_count": 8,
   "metadata": {},
   "outputs": [
    {
     "name": "stdout",
     "output_type": "stream",
     "text": [
      "<class 'pandas.core.frame.DataFrame'>\n",
      "DatetimeIndex: 4 entries, 2022-09-12 16:02:00 to 2022-09-12 16:05:00\n",
      "Data columns (total 6 columns):\n",
      " #   Column    Non-Null Count  Dtype  \n",
      "---  ------    --------------  -----  \n",
      " 0   Open      4 non-null      float64\n",
      " 1   High      4 non-null      float64\n",
      " 2   Low       4 non-null      float64\n",
      " 3   Close     4 non-null      float64\n",
      " 4   Volume    4 non-null      float64\n",
      " 5   Complete  4 non-null      object \n",
      "dtypes: float64(5), object(1)\n",
      "memory usage: 224.0+ bytes\n"
     ]
    }
   ],
   "source": [
    "df.info()"
   ]
  },
  {
   "cell_type": "code",
   "execution_count": null,
   "metadata": {},
   "outputs": [],
   "source": []
  }
 ],
 "metadata": {
  "kernelspec": {
   "display_name": "Python 3.7.9 64-bit",
   "language": "python",
   "name": "python3"
  },
  "language_info": {
   "codemirror_mode": {
    "name": "ipython",
    "version": 3
   },
   "file_extension": ".py",
   "mimetype": "text/x-python",
   "name": "python",
   "nbconvert_exporter": "python",
   "pygments_lexer": "ipython3",
   "version": "3.7.9"
  },
  "orig_nbformat": 4,
  "vscode": {
   "interpreter": {
    "hash": "493878ece595b30a61257a9daf1c2ed48b6ff1bae463fde24cce4e893c093a35"
   }
  }
 },
 "nbformat": 4,
 "nbformat_minor": 2
}
