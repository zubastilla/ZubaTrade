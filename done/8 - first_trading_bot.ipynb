{
 "cells": [
  {
   "cell_type": "code",
   "execution_count": 1,
   "metadata": {},
   "outputs": [],
   "source": [
    "from binance.client import Client\n",
    "from binance import ThreadedWebsocketManager\n",
    "import pandas as pd\n",
    "import numpy as np"
   ]
  },
  {
   "cell_type": "code",
   "execution_count": 2,
   "metadata": {},
   "outputs": [],
   "source": [
    "# testing account keys\n",
    "api_key = 'ZVEsEYIAPzAcPuFuhz0Jzm7Yk3Op6JDWSwIJxZmFYDF4mrrU9LJK4HtWcX7939VX'\n",
    "secret_key = 'ooLajgeO1iBfl4SDVLbtAlloODxvvZ8d6MfhqK9c1pyBl3G7sfGg7DzMxTJapMev'\n",
    "client = Client(api_key=api_key, api_secret=secret_key,\n",
    "                tld='com', testnet=True)"
   ]
  },
  {
   "cell_type": "code",
   "execution_count": 3,
   "metadata": {},
   "outputs": [
    {
     "data": {
      "text/plain": [
       "{'makerCommission': 0,\n",
       " 'takerCommission': 0,\n",
       " 'buyerCommission': 0,\n",
       " 'sellerCommission': 0,\n",
       " 'canTrade': True,\n",
       " 'canWithdraw': False,\n",
       " 'canDeposit': False,\n",
       " 'updateTime': 1652133235255,\n",
       " 'accountType': 'SPOT',\n",
       " 'balances': [{'asset': 'BNB',\n",
       "   'free': '1000.00000000',\n",
       "   'locked': '0.00000000'},\n",
       "  {'asset': 'BTC', 'free': '1.00105500', 'locked': '0.00000000'},\n",
       "  {'asset': 'BUSD', 'free': '10000.00000000', 'locked': '0.00000000'},\n",
       "  {'asset': 'ETH', 'free': '100.00000000', 'locked': '0.00000000'},\n",
       "  {'asset': 'LTC', 'free': '500.00000000', 'locked': '0.00000000'},\n",
       "  {'asset': 'TRX', 'free': '500000.00000000', 'locked': '0.00000000'},\n",
       "  {'asset': 'USDT', 'free': '9983.88995719', 'locked': '0.00000000'},\n",
       "  {'asset': 'XRP', 'free': '50000.00000000', 'locked': '0.00000000'}],\n",
       " 'permissions': ['SPOT']}"
      ]
     },
     "execution_count": 3,
     "metadata": {},
     "output_type": "execute_result"
    }
   ],
   "source": [
    "client.get_account()"
   ]
  },
  {
   "cell_type": "code",
   "execution_count": 6,
   "metadata": {},
   "outputs": [],
   "source": [
    "# simple bot \n",
    "# Stream market data and buy 0.1 BTC once condition x (price/volume) has been met. \n",
    "# Then stop the stream."
   ]
  },
  {
   "cell_type": "code",
   "execution_count": 7,
   "metadata": {},
   "outputs": [],
   "source": [
    "# condition -> price (rounded down) is divisible by 10 w/o remainder\n",
    "twm = ThreadedWebsocketManager()\n",
    "twm.start()"
   ]
  },
  {
   "cell_type": "code",
   "execution_count": 11,
   "metadata": {},
   "outputs": [],
   "source": [
    "def simple_bot(msg):\n",
    "    time = pd.to_datetime(msg['E'],unit='ms')\n",
    "    price = float(msg['c'])\n",
    "    print('Time: {} | Price: {}'.format(time,price))\n",
    "\n",
    "    if int(price) % 10 == 0:\n",
    "        order = client.create_order(symbol='BTCUSDT',side='BUY',type='MARKET',quantity=0.1)\n",
    "        print(\"\\n\" + 50 * \"-\")\n",
    "        print('But {} BTC for {} USDT'.format(order['executedQty'],order['cummulativeQuoteQty']))\n",
    "        print(50 * \"-\" + \"\\n\")\n",
    "        twm.stop()"
   ]
  },
  {
   "cell_type": "code",
   "execution_count": 12,
   "metadata": {},
   "outputs": [
    {
     "data": {
      "text/plain": [
       "'btcusdt@miniTicker'"
      ]
     },
     "execution_count": 12,
     "metadata": {},
     "output_type": "execute_result"
    },
    {
     "name": "stdout",
     "output_type": "stream",
     "text": [
      "Time: 2022-05-09 22:39:26.207000 | Price: 31186.4\n",
      "Time: 2022-05-09 22:39:27.867000 | Price: 31181.02\n",
      "Time: 2022-05-09 22:39:28.460000 | Price: 31184.82\n",
      "Time: 2022-05-09 22:39:29.677000 | Price: 31187.21\n",
      "Time: 2022-05-09 22:39:30.728000 | Price: 31187.21\n",
      "Time: 2022-05-09 22:39:31.930000 | Price: 31187.21\n",
      "Time: 2022-05-09 22:39:32.987000 | Price: 31187.22\n",
      "Time: 2022-05-09 22:39:33.943000 | Price: 31192.64\n",
      "Time: 2022-05-09 22:39:34.605000 | Price: 31192.63\n",
      "Time: 2022-05-09 22:39:35.667000 | Price: 31192.64\n",
      "Time: 2022-05-09 22:39:36.714000 | Price: 31192.64\n",
      "Time: 2022-05-09 22:39:37.893000 | Price: 31187.21\n",
      "Time: 2022-05-09 22:39:38.961000 | Price: 31187.22\n",
      "Time: 2022-05-09 22:39:40.021000 | Price: 31181.01\n",
      "Time: 2022-05-09 22:39:40.926000 | Price: 31184.83\n",
      "Time: 2022-05-09 22:39:41.374000 | Price: 31183.27\n",
      "Time: 2022-05-09 22:39:42.415000 | Price: 31183.27\n",
      "Time: 2022-05-09 22:39:43.770000 | Price: 31183.26\n",
      "Time: 2022-05-09 22:39:44.834000 | Price: 31182.95\n",
      "Time: 2022-05-09 22:39:45.774000 | Price: 31182.95\n",
      "Time: 2022-05-09 22:39:46.873000 | Price: 31182.94\n",
      "Time: 2022-05-09 22:39:47.921000 | Price: 31182.02\n",
      "Time: 2022-05-09 22:39:48.469000 | Price: 31180.0\n",
      "\n",
      "--------------------------------------------------\n",
      "But 0.10000000 BTC for 3118.28419036 USDT\n",
      "--------------------------------------------------\n",
      "\n"
     ]
    }
   ],
   "source": [
    "twm.start_symbol_miniticker_socket(callback=simple_bot,symbol='BTCUSDT')"
   ]
  },
  {
   "cell_type": "code",
   "execution_count": 13,
   "metadata": {},
   "outputs": [
    {
     "data": {
      "text/plain": [
       "{'makerCommission': 0,\n",
       " 'takerCommission': 0,\n",
       " 'buyerCommission': 0,\n",
       " 'sellerCommission': 0,\n",
       " 'canTrade': True,\n",
       " 'canWithdraw': False,\n",
       " 'canDeposit': False,\n",
       " 'updateTime': 1652135989450,\n",
       " 'accountType': 'SPOT',\n",
       " 'balances': [{'asset': 'BNB',\n",
       "   'free': '1000.00000000',\n",
       "   'locked': '0.00000000'},\n",
       "  {'asset': 'BTC', 'free': '1.20105500', 'locked': '0.00000000'},\n",
       "  {'asset': 'BUSD', 'free': '10000.00000000', 'locked': '0.00000000'},\n",
       "  {'asset': 'ETH', 'free': '100.00000000', 'locked': '0.00000000'},\n",
       "  {'asset': 'LTC', 'free': '500.00000000', 'locked': '0.00000000'},\n",
       "  {'asset': 'TRX', 'free': '500000.00000000', 'locked': '0.00000000'},\n",
       "  {'asset': 'USDT', 'free': '3746.17438874', 'locked': '0.00000000'},\n",
       "  {'asset': 'XRP', 'free': '50000.00000000', 'locked': '0.00000000'}],\n",
       " 'permissions': ['SPOT']}"
      ]
     },
     "execution_count": 13,
     "metadata": {},
     "output_type": "execute_result"
    }
   ],
   "source": [
    "client.get_account()"
   ]
  },
  {
   "cell_type": "code",
   "execution_count": null,
   "metadata": {},
   "outputs": [],
   "source": []
  }
 ],
 "metadata": {
  "interpreter": {
   "hash": "40c15341795a4a31e2ced8b0b6833efd59251e27eb723df7c7152a89bc573360"
  },
  "kernelspec": {
   "display_name": "Python 3.7.9 64-bit",
   "language": "python",
   "name": "python3"
  },
  "language_info": {
   "codemirror_mode": {
    "name": "ipython",
    "version": 3
   },
   "file_extension": ".py",
   "mimetype": "text/x-python",
   "name": "python",
   "nbconvert_exporter": "python",
   "pygments_lexer": "ipython3",
   "version": "3.7.9"
  },
  "orig_nbformat": 4
 },
 "nbformat": 4,
 "nbformat_minor": 2
}
